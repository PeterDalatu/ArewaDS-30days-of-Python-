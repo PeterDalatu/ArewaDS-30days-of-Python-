{
 "cells": [
  {
   "cell_type": "markdown",
   "metadata": {},
   "source": [
    "# Exercise: Level 1"
   ]
  },
  {
   "cell_type": "code",
   "execution_count": 1,
   "metadata": {},
   "outputs": [
    {
     "name": "stdout",
     "output_type": "stream",
     "text": [
      "Peter\n",
      "Dalatu\n",
      "Peter Dalatu\n",
      "Nigeria\n",
      "Mubi\n",
      "31\n",
      "2023\n",
      "True\n",
      "True\n",
      "True\n",
      "My name is Peter Dalatu and i am 31 years old, i currently live at Barama Mubi North, Mubi. I studied B.Sc Computer Science and i am a Consultant\n"
     ]
    }
   ],
   "source": [
    "# Day 2: 30 Days of Python Programming\n",
    "\n",
    "first_name = 'Peter'\n",
    "print(first_name)\n",
    "\n",
    "last_name = 'Dalatu'\n",
    "print(last_name)\n",
    "\n",
    "full_name = first_name + ' ' + last_name\n",
    "print(full_name)\n",
    "\n",
    "country = 'Nigeria'\n",
    "print(country)\n",
    "\n",
    "city = 'Mubi'\n",
    "print(city)\n",
    "\n",
    "age = 31\n",
    "print(age)\n",
    "\n",
    "year = 2023\n",
    "print(year)\n",
    "\n",
    "is_married = True\n",
    "print(is_married)\n",
    "\n",
    "is_true = True\n",
    "print(is_true)\n",
    "\n",
    "is_light_on = True\n",
    "print(is_light_on)\n",
    "\n",
    "address, education, job = 'Barama Mubi North', 'B.Sc Computer Science', 'Consultant'\n",
    "print(f'My name is {full_name} and i am {age} years old, i currently live at {address}, {city}. I studied {education} and i am a {job}')"
   ]
  },
  {
   "cell_type": "markdown",
   "metadata": {},
   "source": [
    "# Exercise: Level 2"
   ]
  },
  {
   "cell_type": "markdown",
   "metadata": {},
   "source": [
    "#### Question 1"
   ]
  },
  {
   "cell_type": "code",
   "execution_count": 2,
   "metadata": {},
   "outputs": [
    {
     "name": "stdout",
     "output_type": "stream",
     "text": [
      "Data type of first_name: <class 'str'>\n",
      "Data type of last_name: <class 'str'>\n",
      "Data type of full_name: <class 'str'>\n",
      "Data type of country: <class 'str'>\n",
      "Data type of city: <class 'str'>\n",
      "Data type of age: <class 'int'>\n",
      "Data type of year: <class 'int'>\n",
      "Data type of is_married: <class 'bool'>\n",
      "Data type of is_true: <class 'bool'>\n",
      "Data type of is_light_on: <class 'bool'>\n"
     ]
    }
   ],
   "source": [
    "# Check data types of variables\n",
    "print(f'Data type of first_name: {type(first_name)}')\n",
    "print(f'Data type of last_name: {type(last_name)}')\n",
    "print(f'Data type of full_name: {type(full_name)}')\n",
    "print(f'Data type of country: {type(country)}')\n",
    "print(f'Data type of city: {type(city)}')\n",
    "print(f'Data type of age: {type(age)}')\n",
    "print(f'Data type of year: {type(year)}')\n",
    "print(f'Data type of is_married: {type(is_married)}')\n",
    "print(f'Data type of is_true: {type(is_true)}')\n",
    "print(f'Data type of is_light_on: {type(is_light_on)}')"
   ]
  },
  {
   "cell_type": "markdown",
   "metadata": {},
   "source": [
    "#### Question 2"
   ]
  },
  {
   "cell_type": "code",
   "execution_count": 3,
   "metadata": {},
   "outputs": [
    {
     "name": "stdout",
     "output_type": "stream",
     "text": [
      "Length of first name: 5\n"
     ]
    }
   ],
   "source": [
    "# Using the len() built-in function, find the length of your first name\n",
    "length_first_name = len(first_name)\n",
    "print(f'Length of first name: {length_first_name}')"
   ]
  },
  {
   "cell_type": "markdown",
   "metadata": {},
   "source": [
    "#### Question 3"
   ]
  },
  {
   "cell_type": "code",
   "execution_count": 4,
   "metadata": {},
   "outputs": [
    {
     "name": "stdout",
     "output_type": "stream",
     "text": [
      "Last name is longer than first name\n"
     ]
    }
   ],
   "source": [
    "# Compare the length of the first name and last name\n",
    "length_last_name = len(last_name)\n",
    "if length_first_name > length_last_name:\n",
    "    print('First name is longer than last name')\n",
    "elif length_first_name < length_last_name:\n",
    "    print('Last name is longer than first name')\n",
    "else:\n",
    "    print('First name and last name have the same length')\n"
   ]
  },
  {
   "cell_type": "markdown",
   "metadata": {},
   "source": [
    "#### Question 4"
   ]
  },
  {
   "cell_type": "code",
   "execution_count": 1,
   "metadata": {},
   "outputs": [
    {
     "name": "stdout",
     "output_type": "stream",
     "text": [
      "Sum = 9\n",
      "Difference = 1\n",
      "Product = 20\n",
      "Division = 1.25\n",
      "Modulus = 4\n",
      "Exponentiation = 625\n",
      "Floor Division = 1\n"
     ]
    }
   ],
   "source": [
    "# Declaring the variables\n",
    "num_one = 5\n",
    "num_two = 4\n",
    "\n",
    "# Performing the operations\n",
    "sum = num_one + num_two\n",
    "diff = num_one - num_two\n",
    "product = num_one * num_two\n",
    "div = num_one / num_two\n",
    "mod = num_two % num_one\n",
    "exp = num_one ** num_two\n",
    "floor_div = num_one // num_two\n",
    "\n",
    "# Display the results\n",
    "print(f\"Sum = {sum}\")\n",
    "print(f\"Difference = {diff}\")\n",
    "print(f\"Product = {product}\")\n",
    "print(f\"Division = {div}\")\n",
    "print(f\"Modulus = {mod}\")\n",
    "print(f\"Exponentiation = {exp}\")\n",
    "print(f\"Floor Division = {floor_div}\")\n"
   ]
  },
  {
   "cell_type": "markdown",
   "metadata": {},
   "source": [
    "#### Question 5"
   ]
  },
  {
   "cell_type": "code",
   "execution_count": 3,
   "metadata": {},
   "outputs": [
    {
     "name": "stdout",
     "output_type": "stream",
     "text": [
      "Area of the circle: 2827.4333882308138\n",
      "Circumference of the circle: 188.49555921538757\n"
     ]
    }
   ],
   "source": [
    "import math\n",
    "\n",
    "# Given radius\n",
    "radius = 30\n",
    "\n",
    "# Calculate area of the circle\n",
    "area_of_circle = math.pi * radius**2\n",
    "\n",
    "# Calculate circumference of the circle\n",
    "circum_of_circle = 2 * math.pi * radius\n",
    "\n",
    "# Display the results\n",
    "print(\"Area of the circle:\", area_of_circle)\n",
    "print(\"Circumference of the circle:\", circum_of_circle)\n",
    "\n",
    "# Take user input for the radius\n",
    "user_radius = float(input(\"Enter the radius of the circle: \"))\n",
    "\n",
    "# Calculate area using user input\n",
    "user_area_of_circle = math.pi * user_radius**2\n",
    "\n",
    "# Display the result with user input\n",
    "print(\"Area of the circle with user input:\", user_area_of_circle)"
   ]
  },
  {
   "cell_type": "markdown",
   "metadata": {},
   "source": [
    "#### Question 6"
   ]
  },
  {
   "cell_type": "code",
   "execution_count": 5,
   "metadata": {},
   "outputs": [],
   "source": [
    "first_name = input('Enter your first name:')\n",
    "last_name = input('Enter your last name:')\n",
    "country = input('Which country are you from? ')\n",
    "age = input('How old are you')\n",
    "\n",
    "print(f'First name: {first_name}')\n",
    "print(f'Last name: {last_name}')\n",
    "print(f'Country: {country}')\n",
    "print(f'Age: {age}')"
   ]
  },
  {
   "cell_type": "markdown",
   "metadata": {},
   "source": [
    "#### Question 7"
   ]
  },
  {
   "cell_type": "code",
   "execution_count": null,
   "metadata": {},
   "outputs": [
    {
     "name": "stdout",
     "output_type": "stream",
     "text": [
      "['False', 'None', 'True', 'and', 'as', 'assert', 'async', 'await', 'break', 'class', 'continue', 'def', 'del', 'elif', 'else', 'except', 'finally', 'for', 'from', 'global', 'if', 'import', 'in', 'is', 'lambda', 'nonlocal', 'not', 'or', 'pass', 'raise', 'return', 'try', 'while', 'with', 'yield']\n"
     ]
    }
   ],
   "source": [
    "import keyword\n",
    "\n",
    "# Get all the keywords as a list\n",
    "print(keyword.kwlist)"
   ]
  }
 ],
 "metadata": {
  "kernelspec": {
   "display_name": "base",
   "language": "python",
   "name": "python3"
  },
  "language_info": {
   "codemirror_mode": {
    "name": "ipython",
    "version": 3
   },
   "file_extension": ".py",
   "mimetype": "text/x-python",
   "name": "python",
   "nbconvert_exporter": "python",
   "pygments_lexer": "ipython3",
   "version": "3.11.5"
  }
 },
 "nbformat": 4,
 "nbformat_minor": 2
}
